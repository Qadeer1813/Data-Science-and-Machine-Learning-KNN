{
 "cells": [
  {
   "cell_type": "markdown",
   "metadata": {},
   "source": [
    "# Student Name: Qadeer Hussain\n",
    "\n",
    "# Lecture: Greg Doyle\n",
    "\n",
    "# Topic: K Nearest Neighbour Classification\n",
    "\n",
    "# Car Evaluation\n",
    "\n",
    "# Last Modified: 27 Feb 2025"
   ]
  },
  {
   "cell_type": "code",
   "execution_count": 18,
   "metadata": {},
   "outputs": [],
   "source": [
    "# Libraries\n",
    "import pandas as pd\n",
    "from sklearn.model_selection import train_test_split\n",
    "from imblearn.over_sampling import SMOTE\n",
    "from sklearn.neighbors import KNeighborsClassifier\n",
    "from sklearn.metrics import classification_report, accuracy_score, confusion_matrix, f1_score\n",
    "import matplotlib.pyplot as plt\n",
    "import seaborn as sns\n",
    "import ipywidgets as widgets\n",
    "from IPython.display import display"
   ]
  },
  {
   "cell_type": "markdown",
   "metadata": {},
   "source": [
    "# Import data\n",
    "\n",
    "Import data using SKlearn Library"
   ]
  },
  {
   "cell_type": "code",
   "execution_count": 19,
   "metadata": {},
   "outputs": [
    {
     "data": {
      "text/html": [
       "<div>\n",
       "<style scoped>\n",
       "    .dataframe tbody tr th:only-of-type {\n",
       "        vertical-align: middle;\n",
       "    }\n",
       "\n",
       "    .dataframe tbody tr th {\n",
       "        vertical-align: top;\n",
       "    }\n",
       "\n",
       "    .dataframe thead th {\n",
       "        text-align: right;\n",
       "    }\n",
       "</style>\n",
       "<table border=\"1\" class=\"dataframe\">\n",
       "  <thead>\n",
       "    <tr style=\"text-align: right;\">\n",
       "      <th></th>\n",
       "      <th>buying</th>\n",
       "      <th>maint</th>\n",
       "      <th>doors</th>\n",
       "      <th>persons</th>\n",
       "      <th>lug_boot</th>\n",
       "      <th>safety</th>\n",
       "      <th>class</th>\n",
       "    </tr>\n",
       "  </thead>\n",
       "  <tbody>\n",
       "    <tr>\n",
       "      <th>0</th>\n",
       "      <td>vhigh</td>\n",
       "      <td>vhigh</td>\n",
       "      <td>2</td>\n",
       "      <td>2</td>\n",
       "      <td>small</td>\n",
       "      <td>low</td>\n",
       "      <td>unacc</td>\n",
       "    </tr>\n",
       "    <tr>\n",
       "      <th>1</th>\n",
       "      <td>vhigh</td>\n",
       "      <td>vhigh</td>\n",
       "      <td>2</td>\n",
       "      <td>2</td>\n",
       "      <td>small</td>\n",
       "      <td>med</td>\n",
       "      <td>unacc</td>\n",
       "    </tr>\n",
       "    <tr>\n",
       "      <th>2</th>\n",
       "      <td>vhigh</td>\n",
       "      <td>vhigh</td>\n",
       "      <td>2</td>\n",
       "      <td>2</td>\n",
       "      <td>small</td>\n",
       "      <td>high</td>\n",
       "      <td>unacc</td>\n",
       "    </tr>\n",
       "    <tr>\n",
       "      <th>3</th>\n",
       "      <td>vhigh</td>\n",
       "      <td>vhigh</td>\n",
       "      <td>2</td>\n",
       "      <td>2</td>\n",
       "      <td>med</td>\n",
       "      <td>low</td>\n",
       "      <td>unacc</td>\n",
       "    </tr>\n",
       "    <tr>\n",
       "      <th>4</th>\n",
       "      <td>vhigh</td>\n",
       "      <td>vhigh</td>\n",
       "      <td>2</td>\n",
       "      <td>2</td>\n",
       "      <td>med</td>\n",
       "      <td>med</td>\n",
       "      <td>unacc</td>\n",
       "    </tr>\n",
       "  </tbody>\n",
       "</table>\n",
       "</div>"
      ],
      "text/plain": [
       "  buying  maint doors persons lug_boot safety  class\n",
       "0  vhigh  vhigh     2       2    small    low  unacc\n",
       "1  vhigh  vhigh     2       2    small    med  unacc\n",
       "2  vhigh  vhigh     2       2    small   high  unacc\n",
       "3  vhigh  vhigh     2       2      med    low  unacc\n",
       "4  vhigh  vhigh     2       2      med    med  unacc"
      ]
     },
     "execution_count": 19,
     "metadata": {},
     "output_type": "execute_result"
    }
   ],
   "source": [
    "file_path = 'car.data'\n",
    "columns = [\n",
    "    \"buying\", \"maint\", \"doors\", \"persons\", \"lug_boot\", \"safety\", \"class\"\n",
    "]\n",
    "\n",
    "# Reading the data into a DataFrame with proper column names\n",
    "data = pd.read_csv(file_path, header=None, names=columns)\n",
    "\n",
    "# Display the first few rows of the DataFrame to check\n",
    "data.head()"
   ]
  },
  {
   "cell_type": "markdown",
   "metadata": {},
   "source": [
    "Checking for any missing values"
   ]
  },
  {
   "cell_type": "code",
   "execution_count": 20,
   "metadata": {},
   "outputs": [
    {
     "name": "stdout",
     "output_type": "stream",
     "text": [
      "buying      0\n",
      "maint       0\n",
      "doors       0\n",
      "persons     0\n",
      "lug_boot    0\n",
      "safety      0\n",
      "class       0\n",
      "dtype: int64\n"
     ]
    }
   ],
   "source": [
    "missing_values = data.isnull().sum()\n",
    "print(missing_values)"
   ]
  },
  {
   "cell_type": "markdown",
   "metadata": {},
   "source": [
    "Data Encoding"
   ]
  },
  {
   "cell_type": "code",
   "execution_count": 21,
   "metadata": {},
   "outputs": [],
   "source": [
    "data_encoded = pd.get_dummies(data, columns=[\"buying\", \"maint\", \"doors\", \"persons\", \"lug_boot\", \"safety\"])"
   ]
  },
  {
   "cell_type": "markdown",
   "metadata": {},
   "source": [
    "Splitting the data into features and target variable"
   ]
  },
  {
   "cell_type": "code",
   "execution_count": 22,
   "metadata": {},
   "outputs": [],
   "source": [
    "X = data_encoded.drop('class', axis=1)\n",
    "y = data['class']          "
   ]
  },
  {
   "cell_type": "markdown",
   "metadata": {},
   "source": [
    "Splitting data into training and testing sets"
   ]
  },
  {
   "cell_type": "code",
   "execution_count": 23,
   "metadata": {},
   "outputs": [],
   "source": [
    "X_train, X_test, y_train, y_test = train_test_split(X, y, test_size=0.3)"
   ]
  },
  {
   "cell_type": "code",
   "execution_count": 24,
   "metadata": {},
   "outputs": [
    {
     "name": "stdout",
     "output_type": "stream",
     "text": [
      "buying_high       bool\n",
      "buying_low        bool\n",
      "buying_med        bool\n",
      "buying_vhigh      bool\n",
      "maint_high        bool\n",
      "maint_low         bool\n",
      "maint_med         bool\n",
      "maint_vhigh       bool\n",
      "doors_2           bool\n",
      "doors_3           bool\n",
      "doors_4           bool\n",
      "doors_5more       bool\n",
      "persons_2         bool\n",
      "persons_4         bool\n",
      "persons_more      bool\n",
      "lug_boot_big      bool\n",
      "lug_boot_med      bool\n",
      "lug_boot_small    bool\n",
      "safety_high       bool\n",
      "safety_low        bool\n",
      "safety_med        bool\n",
      "dtype: object\n",
      "object\n"
     ]
    }
   ],
   "source": [
    "print(X_train.dtypes)\n",
    "print(y_train.dtype)"
   ]
  },
  {
   "cell_type": "code",
   "execution_count": 25,
   "metadata": {},
   "outputs": [
    {
     "name": "stdout",
     "output_type": "stream",
     "text": [
      "buying_high       int64\n",
      "buying_low        int64\n",
      "buying_med        int64\n",
      "buying_vhigh      int64\n",
      "maint_high        int64\n",
      "maint_low         int64\n",
      "maint_med         int64\n",
      "maint_vhigh       int64\n",
      "doors_2           int64\n",
      "doors_3           int64\n",
      "doors_4           int64\n",
      "doors_5more       int64\n",
      "persons_2         int64\n",
      "persons_4         int64\n",
      "persons_more      int64\n",
      "lug_boot_big      int64\n",
      "lug_boot_med      int64\n",
      "lug_boot_small    int64\n",
      "safety_high       int64\n",
      "safety_low        int64\n",
      "safety_med        int64\n",
      "dtype: object\n"
     ]
    }
   ],
   "source": [
    "X_train = X_train.astype(int)\n",
    "print(X_train.dtypes)"
   ]
  },
  {
   "cell_type": "code",
   "execution_count": 26,
   "metadata": {},
   "outputs": [],
   "source": [
    "# Applying SMOTE\n",
    "smote = SMOTE()\n",
    "X_train_smote, y_train_smote = smote.fit_resample(X_train, y_train)"
   ]
  },
  {
   "cell_type": "markdown",
   "metadata": {},
   "source": [
    "Code below which has been commented was used to find the best neighbour parameters"
   ]
  },
  {
   "cell_type": "code",
   "execution_count": 27,
   "metadata": {},
   "outputs": [],
   "source": [
    "f1_scores = []\n",
    "neighbor_settings = range(1, 26)  # Test k values from 1 to 25\n",
    "\n",
    "for n_neighbors in neighbor_settings:\n",
    "    knn = KNeighborsClassifier(n_neighbors=n_neighbors)\n",
    "    knn.fit(X_train_smote, y_train_smote)\n",
    "    y_pred = knn.predict(X_test)\n",
    "    f1 = f1_score(y_test, y_pred, average='weighted')\n",
    "    f1_scores.append(f1)"
   ]
  },
  {
   "cell_type": "code",
   "execution_count": 28,
   "metadata": {},
   "outputs": [
    {
     "data": {
      "image/png": "[encoded data removed]",
      "text/plain": [
       "<Figure size 1200x600 with 1 Axes>"
      ]
     },
     "metadata": {},
     "output_type": "display_data"
    }
   ],
   "source": [
    "plt.figure(figsize=(12, 6))\n",
    "plt.plot(neighbor_settings, f1_scores, label='F1 Score', marker='o')\n",
    "plt.title('KNN F1 Score Depending on Number of Neighbors')\n",
    "plt.xlabel('Number of Neighbors')\n",
    "plt.ylabel('F1 Score')\n",
    "plt.legend()\n",
    "plt.show()"
   ]
  },
  {
   "cell_type": "code",
   "execution_count": 29,
   "metadata": {},
   "outputs": [
    {
     "name": "stdout",
     "output_type": "stream",
     "text": [
      "Best k: 11\n",
      "Accuracy: 0.8362235067437379\n",
      "              precision    recall  f1-score   support\n",
      "\n",
      "         acc       0.79      0.66      0.72       121\n",
      "        good       0.31      0.90      0.46        20\n",
      "       unacc       1.00      0.90      0.95       354\n",
      "       vgood       0.44      0.75      0.55        24\n",
      "\n",
      "    accuracy                           0.84       519\n",
      "   macro avg       0.63      0.80      0.67       519\n",
      "weighted avg       0.90      0.84      0.86       519\n",
      "\n"
     ]
    }
   ],
   "source": [
    "best_k = neighbor_settings[f1_scores.index(max(f1_scores))]\n",
    "print(\"Best k:\", best_k)\n",
    "knn_best = KNeighborsClassifier(n_neighbors=best_k)\n",
    "knn_best.fit(X_train_smote, y_train_smote)\n",
    "y_pred_best = knn_best.predict(X_test)\n",
    "print(\"Accuracy:\", accuracy_score(y_test, y_pred_best))\n",
    "print(classification_report(y_test, y_pred_best))"
   ]
  },
  {
   "cell_type": "code",
   "execution_count": 30,
   "metadata": {},
   "outputs": [],
   "source": [
    "# Best KNN: 11\n",
    "knn = KNeighborsClassifier(n_neighbors=11, weights='distance')\n",
    "\n",
    "# Train the model using the training data\n",
    "knn.fit(X_train_smote, y_train_smote)\n",
    "\n",
    "# Predict the response for the test dataset\n",
    "y_pred = knn.predict(X_test)"
   ]
  },
  {
   "cell_type": "markdown",
   "metadata": {},
   "source": [
    "Classification report"
   ]
  },
  {
   "cell_type": "code",
   "execution_count": 31,
   "metadata": {},
   "outputs": [
    {
     "name": "stdout",
     "output_type": "stream",
     "text": [
      "Accuracy: 0.8265895953757225\n",
      "              precision    recall  f1-score   support\n",
      "\n",
      "         acc       0.75      0.67      0.71       121\n",
      "        good       0.29      0.80      0.43        20\n",
      "       unacc       1.00      0.89      0.94       354\n",
      "       vgood       0.44      0.75      0.55        24\n",
      "\n",
      "    accuracy                           0.83       519\n",
      "   macro avg       0.62      0.78      0.66       519\n",
      "weighted avg       0.89      0.83      0.85       519\n",
      "\n"
     ]
    }
   ],
   "source": [
    "accuracy = accuracy_score(y_test, y_pred)\n",
    "\n",
    "print(\"Accuracy:\", accuracy)\n",
    "\n",
    "# Detailed classification report\n",
    "print(classification_report(y_test, y_pred))"
   ]
  },
  {
   "cell_type": "markdown",
   "metadata": {},
   "source": [
    "Confusion Matrix"
   ]
  },
  {
   "cell_type": "code",
   "execution_count": 32,
   "metadata": {},
   "outputs": [
    {
     "data": {
      "image/png": "[encoded data removed]",
      "text/plain": [
       "<Figure size 1000x800 with 2 Axes>"
      ]
     },
     "metadata": {},
     "output_type": "display_data"
    }
   ],
   "source": [
    "cm = confusion_matrix(y_test, y_pred)\n",
    "\n",
    "# Plot the confusion matrix\n",
    "plt.figure(figsize=(10, 8))\n",
    "sns.heatmap(cm, annot=True, fmt=\"d\", cmap=\"Blues\", xticklabels=set(y_test), yticklabels=set(y_test))\n",
    "plt.title('Confusion Matrix')\n",
    "plt.ylabel('Actual Labels')\n",
    "plt.xlabel('Predicted Labels')\n",
    "plt.show()"
   ]
  },
  {
   "cell_type": "markdown",
   "metadata": {},
   "source": [
    "Model in use"
   ]
  },
  {
   "cell_type": "code",
   "execution_count": 33,
   "metadata": {},
   "outputs": [
    {
     "data": {
      "application/vnd.jupyter.widget-view+json": {
       "model_id": "2dfc725cc9454c80ab0a562e27141ea6",
       "version_major": 2,
       "version_minor": 0
      },
      "text/plain": [
       "Dropdown(description='Buying', options=('high', 'low', 'med', 'vhigh'), value='high')"
      ]
     },
     "metadata": {},
     "output_type": "display_data"
    },
    {
     "data": {
      "application/vnd.jupyter.widget-view+json": {
       "model_id": "6cb50ff1068d430ebaacac8b05c44f4d",
       "version_major": 2,
       "version_minor": 0
      },
      "text/plain": [
       "Dropdown(description='Maintenance', options=('high', 'low', 'med', 'vhigh'), value='high')"
      ]
     },
     "metadata": {},
     "output_type": "display_data"
    },
    {
     "data": {
      "application/vnd.jupyter.widget-view+json": {
       "model_id": "c4c88153ed364431b0a1b7f59ab85ad2",
       "version_major": 2,
       "version_minor": 0
      },
      "text/plain": [
       "Dropdown(description='Doors', options=('2', '3', '4', '5more'), value='2')"
      ]
     },
     "metadata": {},
     "output_type": "display_data"
    },
    {
     "data": {
      "application/vnd.jupyter.widget-view+json": {
       "model_id": "5e7593562651471ebaad7f7278163995",
       "version_major": 2,
       "version_minor": 0
      },
      "text/plain": [
       "Dropdown(description='Persons', options=('2', '4', 'more'), value='2')"
      ]
     },
     "metadata": {},
     "output_type": "display_data"
    },
    {
     "data": {
      "application/vnd.jupyter.widget-view+json": {
       "model_id": "ce2dd677e89243e286049bdf1bbc41dc",
       "version_major": 2,
       "version_minor": 0
      },
      "text/plain": [
       "Dropdown(description='Lug Boot', options=('small', 'med', 'big'), value='small')"
      ]
     },
     "metadata": {},
     "output_type": "display_data"
    },
    {
     "data": {
      "application/vnd.jupyter.widget-view+json": {
       "model_id": "b3ac143b7d93404ba1ece5701cbc2539",
       "version_major": 2,
       "version_minor": 0
      },
      "text/plain": [
       "Dropdown(description='Safety', options=('high', 'low', 'med'), value='high')"
      ]
     },
     "metadata": {},
     "output_type": "display_data"
    },
    {
     "data": {
      "application/vnd.jupyter.widget-view+json": {
       "model_id": "25ad122addf9406198e1f067dfa3dc10",
       "version_major": 2,
       "version_minor": 0
      },
      "text/plain": [
       "Button(description='Predict Class', style=ButtonStyle())"
      ]
     },
     "metadata": {},
     "output_type": "display_data"
    },
    {
     "data": {
      "application/vnd.jupyter.widget-view+json": {
       "model_id": "179f892db9c04e94a5e5983334bf4ea8",
       "version_major": 2,
       "version_minor": 0
      },
      "text/plain": [
       "Output()"
      ]
     },
     "metadata": {},
     "output_type": "display_data"
    }
   ],
   "source": [
    "# Function to create a dropdown from a list of options\n",
    "def create_dropdown(label, options):\n",
    "    return widgets.Dropdown(\n",
    "        options=options,\n",
    "        value=options[0],\n",
    "        description=label,\n",
    "        disabled=False,\n",
    "    )\n",
    "\n",
    "# Create dropdowns for each attribute\n",
    "buying_dropdown = create_dropdown('Buying', ['high', 'low', 'med', 'vhigh'])\n",
    "maint_dropdown = create_dropdown('Maintenance', ['high', 'low', 'med', 'vhigh'])\n",
    "doors_dropdown = create_dropdown('Doors', ['2', '3', '4', '5more'])\n",
    "persons_dropdown = create_dropdown('Persons', ['2', '4', 'more'])\n",
    "lug_boot_dropdown = create_dropdown('Lug Boot', ['small', 'med', 'big'])\n",
    "safety_dropdown = create_dropdown('Safety', ['high', 'low', 'med'])\n",
    "\n",
    "# Display the dropdowns\n",
    "display(buying_dropdown, maint_dropdown, doors_dropdown, persons_dropdown, lug_boot_dropdown, safety_dropdown)\n",
    "\n",
    "# Button to predict class\n",
    "predict_button = widgets.Button(description=\"Predict Class\")\n",
    "output = widgets.Output()\n",
    "\n",
    "# Function to handle button click and predict class\n",
    "def on_predict_button_clicked(b):\n",
    "    with output:\n",
    "        output.clear_output()\n",
    "        features = {\n",
    "            'buying_high': 1 if buying_dropdown.value == 'high' else 0,\n",
    "            'buying_low': 1 if buying_dropdown.value == 'low' else 0,\n",
    "            'buying_med': 1 if buying_dropdown.value == 'med' else 0,\n",
    "            'buying_vhigh': 1 if buying_dropdown.value == 'vhigh' else 0,\n",
    "            'maint_high': 1 if maint_dropdown.value == 'high' else 0,\n",
    "            'maint_low': 1 if maint_dropdown.value == 'low' else 0,\n",
    "            'maint_med': 1 if maint_dropdown.value == 'med' else 0,\n",
    "            'maint_vhigh': 1 if maint_dropdown.value == 'vhigh' else 0,\n",
    "            'doors_2': 1 if doors_dropdown.value == '2' else 0,\n",
    "            'doors_3': 1 if doors_dropdown.value == '3' else 0,\n",
    "            'doors_4': 1 if doors_dropdown.value == '4' else 0,\n",
    "            'doors_5more': 1 if doors_dropdown.value == '5more' else 0,\n",
    "            'persons_2': 1 if persons_dropdown.value == '2' else 0,\n",
    "            'persons_4': 1 if persons_dropdown.value == '4' else 0,\n",
    "            'persons_more': 1 if persons_dropdown.value == 'more' else 0,\n",
    "            'lug_boot_big': 1 if lug_boot_dropdown.value == 'big' else 0,\n",
    "            'lug_boot_med': 1 if lug_boot_dropdown.value == 'med' else 0,\n",
    "            'lug_boot_small': 1 if lug_boot_dropdown.value == 'small' else 0,\n",
    "            'safety_high': 1 if safety_dropdown.value == 'high' else 0,\n",
    "            'safety_low': 1 if safety_dropdown.value == 'low' else 0,\n",
    "            'safety_med': 1 if safety_dropdown.value == 'med' else 0,\n",
    "        }\n",
    "        user_features_df = pd.DataFrame([features])\n",
    "     \n",
    "        predicted_class = knn.predict(user_features_df)\n",
    "        print(\"Predicted Class of the car:\", predicted_class[0])\n",
    "\n",
    "# Event Listener for button\n",
    "predict_button.on_click(on_predict_button_clicked)\n",
    "\n",
    "display(predict_button, output)\n"
   ]
  }
 ],
 "metadata": {
  "kernelspec": {
   "display_name": "Python 3",
   "language": "python",
   "name": "python3"
  },
  "language_info": {
   "codemirror_mode": {
    "name": "ipython",
    "version": 3
   },
   "file_extension": ".py",
   "mimetype": "text/x-python",
   "name": "python",
   "nbconvert_exporter": "python",
   "pygments_lexer": "ipython3",
   "version": "3.11.9"
  }
 },
 "nbformat": 4,
 "nbformat_minor": 2
}
